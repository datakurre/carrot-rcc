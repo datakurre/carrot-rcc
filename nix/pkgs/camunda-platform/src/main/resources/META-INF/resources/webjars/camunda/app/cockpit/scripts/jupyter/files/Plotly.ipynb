{
  "metadata": {
    "orig_nbformat": 1,
    "language_info": {
      "codemirror_mode": {
        "name": "python",
        "version": 3
      },
      "file_extension": ".py",
      "mimetype": "text/x-python",
      "name": "python",
      "nbconvert_exporter": "python",
      "pygments_lexer": "ipython3",
      "version": "3.8"
    },
    "kernelspec": {
      "name": "python",
      "display_name": "Pyolite",
      "language": "python"
    }
  },
  "nbformat_minor": 4,
  "nbformat": 4,
  "cells": [
    {
      "cell_type": "markdown",
      "source": "# Camunda process overview example",
      "metadata": {}
    },
    {
      "cell_type": "code",
      "source": "# This cell imports all required libraries and setups some helpers\nimport micropip\nawait micropip.install([\"ipywidgets\", \"pandas\", \"plotly==5.1.0\"])\n\nfrom IPython.display import display, clear_output\nfrom ipywidgets import widgets\n\nimport asyncio\nimport datetime\nimport js\nimport json\nimport os\nimport pandas as pd\nimport plotly.graph_objects as go\nimport plotly.express as px\n\nclass Http:\n    @staticmethod\n    def get(url):\n        request = js.XMLHttpRequest.new()\n        request.open(\"GET\", url, False)\n        request.send(None)\n        assert request.status in [200], request.responseText\n        return json.loads(request.responseText or 'null')",
      "metadata": {
        "trusted": true
      },
      "execution_count": null,
      "outputs": []
    },
    {
      "cell_type": "markdown",
      "source": "## Choose process\n\nChosen process will be rendered below and executing the next cell will display activity data for the process.",
      "metadata": {}
    },
    {
      "cell_type": "code",
      "source": "# Fetch and sort available process definiikitions\ndefinitions = [\n    (d[\"versionTag\"] and f'{d[\"name\"]} : {d[\"versionTag\"]}' or f'{d[\"name\"]} : {d[\"version\"]:04}', d[\"id\"])\n    for d in sorted(Http.get(os.environ[\"CAMUNDA_ENGINE_API\"] + \"/process-definition\"), key=lambda x: x[\"name\"])\n]\n\n# Define BPMN display configuration\nconfig = {\"style\": {\"height\": \"400px\"}}\n\n# Define interactive widgets\ndefinition_id = widgets.Dropdown(\n     value=definitions[0][-1],\n     options=definitions,\n     description=\"Process:\"\n)\ndefinition_xml = None\ndefinition_output = widgets.Output()\n\n# Define display init and update function\ndef display_bpmn(definition_id, output=definition_output, config=config):\n    global definition_xml\n    response = Http.get(os.environ[\"CAMUNDA_ENGINE_API\"] + f'/process-definition/{definition_id}/xml')\n    xml = definition_xml = response[\"bpmn20Xml\"]\n    with output:\n        clear_output(wait=True)\n        display({\"application/bpmn+xml\": xml, \"application/bpmn+json\": json.dumps(config)}, raw=True)\n    \n# Init display and wire display update\ndisplay(widgets.VBox([definition_id, definition_output]))\ndisplay_bpmn(definition_id.value)\ndefinition_id.observe(lambda change: display_bpmn(change.new), 'value')",
      "metadata": {
        "trusted": true
      },
      "execution_count": null,
      "outputs": []
    },
    {
      "cell_type": "markdown",
      "source": "## Choose period\n\nAfter choosing a different process from above, the cell below must be executed for available tasks to be updated.",
      "metadata": {}
    },
    {
      "cell_type": "code",
      "source": "# Define filter widgets\nstarted_after = widgets.DatePicker(\n    value=datetime.datetime.now().date() - datetime.timedelta(14),\n    description=\"Started:\"\n)\n\nfinished_before = widgets.DatePicker(\n    value=datetime.datetime.now().date() + datetime.timedelta(1),\n    description=\"Finished:\"\n)\n\nselected_tasks = widgets.SelectMultiple(\n   options=[],\n   description=\"Tasks:\"\n)\n\n# Define diagram placeholder\ntasks_output = widgets.Output()\n\n# Display with layout\ndisplay(widgets.VBox([widgets.HBox([started_after, finished_before, selected_tasks]), tasks_output]))\n\n# Update task options from activity data\ndef set_selected_tasks_options(df):\n    options = []\n    names = (df[df.durationInMillis > 100].activityName.unique())\n    for name in names:\n        options.append((name, df[df.activityName == name].activityId.unique()[0]))                    \n    selected_tasks.options = options\n\n# Fetch data and display diagrams\ndef display_boxes(definition_id, selected_tasks, started_after, finished_before,\n                  config=config, output=tasks_output):\n    # Fetch data between chosen dates\n    after = started_after.strftime(\"%Y-%m-%dT00:00:00.000%2B0000\")\n    before = finished_before.strftime(\"%Y-%m-%dT00:00:00.000%2B0000\")\n    response = Http.get(\n        os.environ[\"CAMUNDA_ENGINE_API\"] +\n        f'/history/activity-instance?processDefinitionId={definition_id}' +\n        f'&startedAfter={after}&finishedBefore={before}'\n    )\n    \n    # Make pandas DataFrame\n    df = pd.DataFrame(response)\n    \n    # Update available tasks from data\n    set_selected_tasks_options(df)\n    \n    # Apply tasks filter and display data\n    if df.empty:\n        with tasks_output:\n            clear_output(wait=True)\n    else:\n        df = df[df.durationInMillis > 100]  # filter immediate activities\n        df[\"duration\"] = pd.to_timedelta(df.durationInMillis, unit=\"ms\")\n        df[\"durationDT\"] = pd.to_datetime(df.durationInMillis, unit=\"ms\")\n\n        # Create timeline graph to visualize complete processes\n        timeline = px.timeline(\n            df[df.activityName.notna()],\n            x_start=\"startTime\", x_end=\"endTime\",\n            y=\"processInstanceId\",\n            color=\"activityName\",\n            labels={\"activityName\": \"Task\"}\n        )\n        timeline.update_yaxes(visible=False, showticklabels=False)\n\n        # Filter selected tasks only\n        if selected_tasks:\n            df = df[df.activityId.isin(selected_tasks)]\n            \n        # Create box graph for selected tasks durations\n        boxes = px.box(\n            df[df.endTime.notna()][[\"activityId\", \"activityName\", \"duration\", \"durationDT\"]],\n            x=\"activityName\",\n            y=\"durationDT\", # Timedelta has https://github.com/plotly/plotly.py/issues/801\n            color=\"activityName\",\n            labels={\"durationDT\": \"Duration\", \"activityName\": \"Task\"},\n        )\n        \n        # display\n        with tasks_output:\n            clear_output(wait=True)\n            display(df[[\"activityName\", \"duration\"]].groupby(\"activityName\").describe())\n            display(boxes)\n            display(timeline)\n\n# Init display and wire display update\ndisplay_boxes(definition_id.value, selected_tasks.value, started_after.value, finished_before.value)  \n\nfor widget in [selected_tasks, started_after, finished_before]:\n    widget.observe(lambda change: display_boxes(\n        definition_id.value, selected_tasks.value, started_after.value, finished_before.value\n    ), 'value')",
      "metadata": {
        "trusted": true
      },
      "execution_count": null,
      "outputs": []
    },
    {
      "cell_type": "code",
      "source": "# Color selected tasks on BPMN diagram \ndef color_bpmn(definition_id, selected_tasks):\n    config[\"colors\"] = {\n        task_id: ({\n            \"stroke\": \"#ffffff\",\n            \"fill\": \"#000000\",\n        } if task_id in selected_tasks else {\n            \"stroke\": \"#000000\",\n            \"fill\": \"#ffffff\",            \n        }) for task_id in list(selected_tasks) + list(config.get(\"colors\", []))\n    }\n    with definition_output:\n        clear_output(wait=True)\n        display({\"application/bpmn+xml\": definition_xml, \"application/bpmn+json\": json.dumps(config)}, raw=True)\n\nselected_tasks.observe(lambda change: color_bpmn(definition_id.value, selected_tasks.value), 'value')",
      "metadata": {
        "trusted": true
      },
      "execution_count": null,
      "outputs": []
    }
  ]
}